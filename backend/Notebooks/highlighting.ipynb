{
 "cells": [
  {
   "cell_type": "code",
   "execution_count": 1,
   "metadata": {},
   "outputs": [],
   "source": [
    "import pandas as pd\n",
    "import re\n",
    "from pathlib import Path\n",
    "import unidecode"
   ]
  },
  {
   "cell_type": "code",
   "execution_count": 13,
   "metadata": {},
   "outputs": [],
   "source": [
    "import sys\n",
    "sys.path.append(\"../app\")\n",
    "from text_highlighter import highlight_text\n",
    "from text_cleaner import clean_page_text\n",
    "import wikipedia_api"
   ]
  },
  {
   "cell_type": "code",
   "execution_count": 3,
   "metadata": {},
   "outputs": [],
   "source": [
    "# 336531 French words. From https://github.com/chrplr/openlexicon/blob/master/datasets-info/Liste-de-mots-francais-Gutenberg,\n",
    "# to which I added some words like 'puisqu'', 'aujourd'hui, quantique' etc.\n",
    "FRENCH_DICT = Path('../data/gutenberg_dictionary.txt')\n",
    "FRENCH_WORDS = set(FRENCH_DICT.read_text().splitlines())\n",
    "\n",
    "# exact_title = wikipedia_api.get_exact_title(\"Einstein\")\n",
    "# print(wikipedia_api.get_article_content(exact_title).text)\n",
    "wiki_text = open(\"einstein_wiki_text.txt\", 'r', encoding='utf8').read()\n",
    "cleaned_page_text = clean_page_text(text)"
   ]
  },
  {
   "cell_type": "code",
   "execution_count": 5,
   "metadata": {},
   "outputs": [],
   "source": [
    "# %%timeit\n",
    "cleaned_page_text = clean_page_text(text)"
   ]
  },
  {
   "cell_type": "code",
   "execution_count": 6,
   "metadata": {},
   "outputs": [],
   "source": [
    "# %%timeit\n",
    "highlighted_text = highlight_text(cleaned_page_text)"
   ]
  },
  {
   "cell_type": "code",
   "execution_count": 26,
   "metadata": {},
   "outputs": [],
   "source": [
    "import pandas as pd"
   ]
  },
  {
   "cell_type": "code",
   "execution_count": 29,
   "metadata": {},
   "outputs": [
    {
     "name": "stdout",
     "output_type": "stream",
     "text": [
      "1.68 ms ± 9.69 µs per loop (mean ± std. dev. of 7 runs, 1,000 loops each)\n"
     ]
    }
   ],
   "source": [
    "%%timeit\n",
    "# Themes to subthemes dict\n",
    "THEMES_DF = pd.read_csv(\"../data/themes_sous-themes.csv\")\n",
    "THEMES_TO_SUBTHEMES = {theme: sous_themes['Sous-thème'].to_list() for theme, sous_themes in THEMES_DF.groupby(\"Thème\") }\n"
   ]
  },
  {
   "cell_type": "code",
   "execution_count": 48,
   "metadata": {},
   "outputs": [
    {
     "ename": "TypeError",
     "evalue": "first argument must be callable or None",
     "output_type": "error",
     "traceback": [
      "\u001b[0;31m---------------------------------------------------------------------------\u001b[0m",
      "\u001b[0;31mTypeError\u001b[0m                                 Traceback (most recent call last)",
      "Input \u001b[0;32mIn [48]\u001b[0m, in \u001b[0;36m<module>\u001b[0;34m\u001b[0m\n\u001b[1;32m      1\u001b[0m \u001b[39mfrom\u001b[39;00m \u001b[39mcollections\u001b[39;00m \u001b[39mimport\u001b[39;00m defaultdict\n\u001b[1;32m      3\u001b[0m csv_reader \u001b[39m=\u001b[39m csv\u001b[39m.\u001b[39mDictReader(\u001b[39mopen\u001b[39m(\u001b[39m\"\u001b[39m\u001b[39m../data/themes_sous-themes.csv\u001b[39m\u001b[39m\"\u001b[39m))\n\u001b[0;32m----> 4\u001b[0m THEMES_TO_SUBTHEMES \u001b[39m=\u001b[39m defaultdict(THEMES_TO_SUBTHEMES[row[\u001b[39m'\u001b[39;49m\u001b[39mThème\u001b[39;49m\u001b[39m'\u001b[39;49m]]\u001b[39m.\u001b[39;49mappend(row[\u001b[39m'\u001b[39;49m\u001b[39mSous-thème\u001b[39;49m\u001b[39m'\u001b[39;49m]) \u001b[39mfor\u001b[39;49;00m row \u001b[39min\u001b[39;49;00m csv_reader)\n\u001b[1;32m      5\u001b[0m THEMES_TO_SUBTHEMES\n",
      "\u001b[0;31mTypeError\u001b[0m: first argument must be callable or None"
     ]
    }
   ],
   "source": [
    "from collections import defaultdict\n",
    "\n",
    "csv_reader = csv.DictReader(open(\"../data/themes_sous-themes.csv\"))\n",
    "THEMES_TO_SUBTHEMES = defaultdict(list)\n",
    "for row in csv_reader:\n",
    "    THEMES_TO_SUBTHEMES[row['Thème']].append(row['Sous-thème'])\n",
    "THEMES_TO_SUBTHEMES"
   ]
  },
  {
   "cell_type": "code",
   "execution_count": 46,
   "metadata": {},
   "outputs": [
    {
     "data": {
      "text/plain": [
       "{'Histoire': ['Histoire de France',\n",
       "  'Anciennes civilisations',\n",
       "  'Les grandes découvertes',\n",
       "  \"L'Amérique\"],\n",
       " 'Mythes & Légendes': [\"L'égypte ancienne\",\n",
       "  'Mythes nordiques',\n",
       "  'Mythes grecs',\n",
       "  'Les différents types de mythes'],\n",
       " 'Sciences': ['Astronomie',\n",
       "  'Dinosaures',\n",
       "  'Chimie',\n",
       "  'Médecine',\n",
       "  'Les femmes scientifiques',\n",
       "  'Botanique',\n",
       "  'Les prix nobels & grands scientifiques'],\n",
       " 'Sciences humaines': ['Sur le divan',\n",
       "  'Histoire de la psychanalyse',\n",
       "  'Histoire de la sociologie',\n",
       "  'Histoire de la psychologie'],\n",
       " 'Culture': ['Monstres',\n",
       "  'Peinture',\n",
       "  'Musique',\n",
       "  'Les 7 merveilles du monde',\n",
       "  'Danse'],\n",
       " 'Beyond': ['Politique',\n",
       "  'Poésies',\n",
       "  'Philosophie',\n",
       "  'Droit',\n",
       "  'Vin',\n",
       "  'Contes',\n",
       "  'Fables'],\n",
       " 'Kids': ['De 0 à 3 ans',\n",
       "  'A partir de 3 ans',\n",
       "  'A partir de 6 ans',\n",
       "  'Pour les 8 ans et +']}"
      ]
     },
     "execution_count": 46,
     "metadata": {},
     "output_type": "execute_result"
    }
   ],
   "source": [
    "dict(THEMES_TO_SUBTHEMES)"
   ]
  },
  {
   "cell_type": "code",
   "execution_count": 37,
   "metadata": {},
   "outputs": [
    {
     "name": "stdout",
     "output_type": "stream",
     "text": [
      "{'Thème': 'Histoire', 'Sous-thème': 'Histoire de France'}\n",
      "{'Thème': 'Histoire', 'Sous-thème': 'Anciennes civilisations'}\n",
      "{'Thème': 'Histoire', 'Sous-thème': 'Les grandes découvertes'}\n",
      "{'Thème': 'Histoire', 'Sous-thème': \"L'Amérique\"}\n",
      "{'Thème': 'Mythes & Légendes', 'Sous-thème': \"L'égypte ancienne\"}\n",
      "{'Thème': 'Mythes & Légendes', 'Sous-thème': 'Mythes nordiques'}\n",
      "{'Thème': 'Mythes & Légendes', 'Sous-thème': 'Mythes grecs'}\n",
      "{'Thème': 'Mythes & Légendes', 'Sous-thème': 'Les différents types de mythes'}\n",
      "{'Thème': 'Sciences', 'Sous-thème': 'Astronomie'}\n",
      "{'Thème': 'Sciences', 'Sous-thème': 'Dinosaures'}\n",
      "{'Thème': 'Sciences', 'Sous-thème': 'Chimie'}\n",
      "{'Thème': 'Sciences', 'Sous-thème': 'Médecine'}\n",
      "{'Thème': 'Sciences', 'Sous-thème': 'Les femmes scientifiques'}\n",
      "{'Thème': 'Sciences', 'Sous-thème': 'Botanique'}\n",
      "{'Thème': 'Sciences', 'Sous-thème': 'Les prix nobels & grands scientifiques'}\n",
      "{'Thème': 'Sciences humaines', 'Sous-thème': 'Sur le divan'}\n",
      "{'Thème': 'Sciences humaines', 'Sous-thème': 'Histoire de la psychanalyse'}\n",
      "{'Thème': 'Sciences humaines', 'Sous-thème': 'Histoire de la sociologie'}\n",
      "{'Thème': 'Sciences humaines', 'Sous-thème': 'Histoire de la psychologie'}\n",
      "{'Thème': 'Culture', 'Sous-thème': 'Monstres'}\n",
      "{'Thème': 'Culture', 'Sous-thème': 'Peinture'}\n",
      "{'Thème': 'Culture', 'Sous-thème': 'Musique'}\n",
      "{'Thème': 'Culture', 'Sous-thème': 'Les 7 merveilles du monde'}\n",
      "{'Thème': 'Culture', 'Sous-thème': 'Danse'}\n",
      "{'Thème': 'Beyond', 'Sous-thème': 'Politique'}\n",
      "{'Thème': 'Beyond', 'Sous-thème': 'Poésies'}\n",
      "{'Thème': 'Beyond', 'Sous-thème': 'Philosophie'}\n",
      "{'Thème': 'Beyond', 'Sous-thème': 'Droit'}\n",
      "{'Thème': 'Beyond', 'Sous-thème': 'Vin'}\n",
      "{'Thème': 'Beyond', 'Sous-thème': 'Contes'}\n",
      "{'Thème': 'Beyond', 'Sous-thème': 'Fables'}\n",
      "{'Thème': 'Kids', 'Sous-thème': 'De 0 à 3 ans'}\n",
      "{'Thème': 'Kids', 'Sous-thème': 'A partir de 3 ans'}\n",
      "{'Thème': 'Kids', 'Sous-thème': 'A partir de 6 ans'}\n",
      "{'Thème': 'Kids', 'Sous-thème': 'Pour les 8 ans et +'}\n"
     ]
    }
   ],
   "source": [
    "import csv\n",
    "with open(\"../data/themes_sous-themes.csv\") as csvfile:\n",
    "    reader = csv.DictReader(csvfile)\n",
    "    for row in reader:\n",
    "\n",
    "        print(row)"
   ]
  },
  {
   "cell_type": "code",
   "execution_count": null,
   "metadata": {},
   "outputs": [],
   "source": []
  },
  {
   "cell_type": "code",
   "execution_count": null,
   "metadata": {},
   "outputs": [],
   "source": [
    "def find_non_french_words(text: str):\n",
    "    invalid_words = []\n",
    "\n",
    "    french_words_regex = r\"[A-Za-zÀ-ÖØ-öø-ÿœ]{3,}\"\n",
    "    # french_words_regex = r\"[a-zA-ZÀ-ÿ]{3,}\"\n",
    "    # french_words_regex = r\"[a-zA-ZÀ-ÿ-]{2,}\"\n",
    "\n",
    "    text_words = re.findall(french_words_regex, text)\n",
    "    for word in text_words:\n",
    "\n",
    "        # Check if lowercased and ascii'd word is in the dictionary (e.g. 'Sœur' to 'soeur')\n",
    "        if word.lower() not in mots and unidecode.unidecode(word.lower()) not in mots:\n",
    "            invalid_words.append(word)\n",
    "    \n",
    "    # Remove noms propres, but keep acronyms ?\n",
    "    invalid_words = [word for word in invalid_words if (not word[0].isupper() or word.isupper())]\n",
    "    \n",
    "    return invalid_words"
   ]
  },
  {
   "cell_type": "code",
   "execution_count": null,
   "metadata": {},
   "outputs": [],
   "source": [
    "# %%timeit\n",
    "invalid_words = find_non_french_words(text)"
   ]
  },
  {
   "cell_type": "code",
   "execution_count": null,
   "metadata": {},
   "outputs": [
    {
     "name": "stdout",
     "output_type": "stream",
     "text": [
      "49\n"
     ]
    },
    {
     "data": {
      "text/plain": [
       "['helvético',\n",
       " 'insurge',\n",
       " 'EPFZ',\n",
       " 'brownien',\n",
       " 'brownien',\n",
       " 'neue',\n",
       " 'honoris',\n",
       " 'hyperconnexion',\n",
       " 'brownien',\n",
       " 'newtonienne',\n",
       " 'électrodynamique',\n",
       " 'tenseurs',\n",
       " 'würfelt',\n",
       " 'nicht',\n",
       " 'EPR',\n",
       " 'instrumentalisée',\n",
       " 'cosigne',\n",
       " 'maccarthysme',\n",
       " 'maccarthysme',\n",
       " 'maccarthysme',\n",
       " 'FBI',\n",
       " 'URSS',\n",
       " 'anationale',\n",
       " 'socio',\n",
       " 'franquisme',\n",
       " 'FBI',\n",
       " 'FBI',\n",
       " 'NAACP',\n",
       " 'coccygodynie',\n",
       " 'eBay',\n",
       " 'life',\n",
       " 'berlinoise',\n",
       " 'illuminatrice',\n",
       " 'astrologischer',\n",
       " 'képlérienne',\n",
       " 'téléologiquement',\n",
       " 'caloporteur',\n",
       " 'doing',\n",
       " 'the',\n",
       " 'same',\n",
       " 'thing',\n",
       " 'over',\n",
       " 'and',\n",
       " 'over',\n",
       " 'again',\n",
       " 'and',\n",
       " 'expecting',\n",
       " 'different',\n",
       " 'results']"
      ]
     },
     "execution_count": 8,
     "metadata": {},
     "output_type": "execute_result"
    }
   ],
   "source": [
    "print(len(invalid_words))\n",
    "invalid_words"
   ]
  },
  {
   "cell_type": "code",
   "execution_count": null,
   "metadata": {},
   "outputs": [],
   "source": [
    "# Texte entre guillemets\n",
    "exp = r\"«.+?»\""
   ]
  }
 ],
 "metadata": {
  "interpreter": {
   "hash": "aee8b7b246df8f9039afb4144a1f6fd8d2ca17a180786b69acc140d282b71a49"
  },
  "kernelspec": {
   "display_name": "Python 3.10.2 64-bit",
   "language": "python",
   "name": "python3"
  },
  "language_info": {
   "codemirror_mode": {
    "name": "ipython",
    "version": 3
   },
   "file_extension": ".py",
   "mimetype": "text/x-python",
   "name": "python",
   "nbconvert_exporter": "python",
   "pygments_lexer": "ipython3",
   "version": "3.10.2"
  },
  "orig_nbformat": 4
 },
 "nbformat": 4,
 "nbformat_minor": 2
}
